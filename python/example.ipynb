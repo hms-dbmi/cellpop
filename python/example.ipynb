{
 "cells": [
  {
   "cell_type": "code",
   "execution_count": 19,
   "metadata": {},
   "outputs": [
    {
     "name": "stdout",
     "output_type": "stream",
     "text": [
      "The autoreload extension is already loaded. To reload it, use:\n",
      "  %reload_ext autoreload\n",
      "env: ANYWIDGET_HMR=1\n"
     ]
    }
   ],
   "source": [
    "%load_ext autoreload\n",
    "%autoreload 2\n",
    "%env ANYWIDGET_HMR=1"
   ]
  },
  {
   "cell_type": "code",
   "execution_count": 20,
   "metadata": {},
   "outputs": [],
   "source": [
    "uuids = [\"ad693f99fb9006e68a53e97598da1509\",\n",
    "\t\"173de2e80adf6a73ac8cff5ccce20dfc\",\n",
    "\t\"b95f34761c252ebbd1e482cd9afae73f\",\n",
    "\t\"5a5ca03fa623602d9a859224aa40ace4\",\n",
    "\t\"3c1b10bc912c60c9afc36b7423695236\",\n",
    "\t\"1dc16eb0270ff73291dd45b6a96aa3c0\",\n",
    "\t\"b05c21f9c94ce1a22a9694cd0fe0291e\",\n",
    "\t\"8cdb42ed1194255c74c8462b99bbd7ef\",\n",
    "\t\"fe0ded5fc0355c95239f9c040dd31e99\",\n",
    "\t\"367fee3b40cba682063289505b922be1\",\n",
    "\t\"b99fc30c4195958fbef217fa9ed9ec8f\",\n",
    "\t\"898138b7f45a67c574e9955fb400e9be\",\n",
    "\t\"f220c9e7bcaea3a87162cbe61287ea4d\",\n",
    "\t\"e5f7a14d93659bd0b8dc2819ffa9bc4b\",\n",
    "\t\"56cbda4789f04d79c0c3dffe21816d48\",\n",
    "\t\"0b6f63f2bd61a8c091fc7afc0f318ad1\",\n",
    "\t\"62efbe0a6abd0bcf53ab9ab29e7cd73f\",\n",
    "\t\"4b62d9d2c248323ce029859f953fdc57\",\n",
    "\t\"c81b0dc9d16eb825a7d6bce6e1b3678f\",\n",
    "\t\"5ee240959c96b49d960702755478b9fc\",\n",
    "\t\"7c9e07c96d144536525b1f889acee14d\",\n",
    "\t\"dd7ccbc306692fc5ff5e61c22845da21\",\n",
    "\t\"9a7e6be288b27ddbd3366c4ae41bbcd2\",\n",
    "\t\"018a905cdbdff684760859f594d3fd77\",\n",
    "\t\"af5741dad7aecf7960a129c3d2ae642a\",\n",
    "\t\"6e1db473492095ccc2f1393d7259b9c0\",\n",
    "\t\"fae9a1f2e7abefca2203765a3c7a5ba1\",\n",
    "\t\"8d631eee88855ac59155edca2a3bc1ca\",\n",
    "\t\"1ea6c0ac5ba60fe35bf63af8699b6fbe\"]"
   ]
  },
  {
   "cell_type": "code",
   "execution_count": 21,
   "metadata": {},
   "outputs": [
    {
     "data": {
      "application/vnd.jupyter.widget-view+json": {
       "model_id": "7509c1d9026f43da8af4f2457e43a199",
       "version_major": 2,
       "version_minor": 1
      },
      "text/plain": [
       "Widget(uuids=['ad693f99fb9006e68a53e97598da1509', '173de2e80adf6a73ac8cff5ccce20dfc', 'b95f34761c252ebbd1e482c…"
      ]
     },
     "execution_count": 21,
     "metadata": {},
     "output_type": "execute_result"
    }
   ],
   "source": [
    "from cellpop import Widget\n",
    "Widget(uuids=uuids)"
   ]
  }
 ],
 "metadata": {
  "kernelspec": {
   "display_name": "Python 3 (ipykernel)",
   "language": "python",
   "name": "python3"
  },
  "language_info": {
   "codemirror_mode": {
    "name": "ipython",
    "version": 3
   },
   "file_extension": ".py",
   "mimetype": "text/x-python",
   "name": "python",
   "nbconvert_exporter": "python",
   "pygments_lexer": "ipython3",
   "version": "3.12.6"
  }
 },
 "nbformat": 4,
 "nbformat_minor": 4
}
