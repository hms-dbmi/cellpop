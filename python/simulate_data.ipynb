{
 "cells": [
  {
   "cell_type": "markdown",
   "metadata": {},
   "source": [
    "# create datasets"
   ]
  },
  {
   "cell_type": "code",
   "execution_count": 11,
   "metadata": {},
   "outputs": [],
   "source": [
    "# !pip3 install numpy matplotlib"
   ]
  },
  {
   "cell_type": "code",
   "execution_count": 12,
   "metadata": {},
   "outputs": [],
   "source": [
    "import numpy as np\n",
    "import matplotlib.pyplot as plt"
   ]
  },
  {
   "cell_type": "code",
   "execution_count": 13,
   "metadata": {},
   "outputs": [],
   "source": [
    "np.random.seed(1)"
   ]
  },
  {
   "cell_type": "code",
   "execution_count": 14,
   "metadata": {},
   "outputs": [],
   "source": [
    "n_datasets = 2000\n",
    "n_conditions_same = 2\n",
    "n_conditions_different = 3\n",
    "n_cells = 3000\n",
    "overlap = 0.1\n",
    "\n",
    "prefix_rows = \"data_\"\n",
    "prefix_cols = \"cell_\"\n",
    "\n",
    "# if you want to scale the n_cells based on the n_datasets, uncomment this:\n",
    "# scaling = 0.5\n",
    "# n_cells = round((n_datasets) / 2 + (n_datasets) * (scaling - overlap) * (n_conditions_different - 1))\n",
    "# if n_cells < 50: \n",
    "#     n_cells = 50\n",
    "# n_cells"
   ]
  },
  {
   "cell_type": "code",
   "execution_count": 15,
   "metadata": {},
   "outputs": [],
   "source": [
    "# divide the datasets in the conditions\n",
    "size = round(n_datasets / n_conditions_different)\n",
    "datasets_conditions = [i for i in range(n_conditions_different) for j in range(n_datasets // n_conditions_different + (i < n_datasets % n_conditions_different))]\n",
    "datasets_conditions2 = [i % n_conditions_same for i in range(n_datasets)]"
   ]
  },
  {
   "cell_type": "code",
   "execution_count": 16,
   "metadata": {},
   "outputs": [],
   "source": [
    "# calculate the amount of cells per condition and create list with start of cells\n",
    "n_cells_per_condition = round((n_cells + (n_conditions_different - 1) * overlap * n_cells) / n_conditions_different)\n",
    "conditions = []\n",
    "\n",
    "for i in range(n_conditions_different):\n",
    "    start = round(i * (n_cells_per_condition - overlap * n_cells))\n",
    "    conditions.append(start)"
   ]
  },
  {
   "cell_type": "code",
   "execution_count": 17,
   "metadata": {},
   "outputs": [],
   "source": [
    "# empty arrays\n",
    "ds = np.zeros(n_datasets)\n",
    "cs = np.zeros((n_datasets, n_cells))\n",
    "\n",
    "# generate random number of cells per dataset\n",
    "for i in range(n_datasets):\n",
    "    ds[i] = round(np.random.random() * 100000)\n",
    "\n",
    "# get alphas\n",
    "alphas_list = []\n",
    "for i in range(n_conditions_different):\n",
    "    alphas = [2.0] * (conditions[i] - 0) + [10.0] * n_cells_per_condition + [2.0] * (n_cells - n_cells_per_condition - (conditions[i] - 0))\n",
    "    alphas_list.append(alphas)\n",
    "\n",
    "# calculate fractions\n",
    "for i in range(n_datasets):\n",
    "    condition = datasets_conditions[i]\n",
    "    alphas = alphas_list[condition]\n",
    "    fractions = np.random.dirichlet(alphas)\n",
    "    cs[i] = [round(f) for f in fractions * ds[i]]   "
   ]
  },
  {
   "cell_type": "code",
   "execution_count": null,
   "metadata": {},
   "outputs": [],
   "source": [
    "# quick heatmap to check\n",
    "plt.imshow(cs.transpose())\n",
    "plt.colorbar(label='Value')\n",
    "\n",
    "plt.xlabel('Datasets')\n",
    "plt.ylabel('Cells')\n",
    "\n",
    "plt.show()"
   ]
  },
  {
   "cell_type": "code",
   "execution_count": 19,
   "metadata": {},
   "outputs": [],
   "source": [
    "# countsmatrix\n",
    "countsMatrix = []\n",
    "for i in range(n_datasets):\n",
    "    for j in range(n_cells):\n",
    "        obs = { \"row\": f\"{prefix_rows}{i}\", \"col\": f\"{prefix_cols}{j}\", \"value\": round(cs[i][j]) }\n",
    "        countsMatrix.append(obs)\n",
    "\n",
    "\n",
    "# rows\n",
    "different = [\"kidney\", \"liver\", \"heart\", \"lung\", \"brain\", \"spleen\", \"colon\"]\n",
    "same = [\"male\", \"female\", \"other\"]\n",
    "\n",
    "row_names = []\n",
    "metadata_rows = {}\n",
    "for i in range(n_datasets):\n",
    "    row_names.append(f\"{prefix_rows}{i}\")\n",
    "\n",
    "    condition_different = datasets_conditions[i]\n",
    "    condition_same = datasets_conditions2[i]\n",
    "    obs = {\"title\": \"Example title\", \"dataset_type\": \"RNAseq [Salmon]\", \"anatomy\": different[condition_different], \"sex\": same[condition_same], \"age\": 65}\n",
    "    metadata_rows[f\"{prefix_rows}{i}\"] = obs\n",
    "\n",
    "# cols\n",
    "col_names = []\n",
    "metadata_cols = {}\n",
    "for j in range(n_cells):\n",
    "    col_names.append(f\"{prefix_cols}{j}\")\n",
    "\n",
    "    obs = {\"Cell Ontology Label\": \"Example label\"}\n",
    "    metadata_cols[f\"{prefix_cols}{j}\"] = obs\n",
    "\n",
    "# combine\n",
    "res = {\n",
    "    \"countsMatrix\": countsMatrix,\n",
    "    \"rowNames\": row_names,\n",
    "    \"colNames\": col_names,\n",
    "    \"metadata\": {\n",
    "        \"rows\": metadata_rows,\n",
    "        \"cols\": metadata_cols,\n",
    "    }\n",
    "}"
   ]
  },
  {
   "cell_type": "code",
   "execution_count": 20,
   "metadata": {},
   "outputs": [],
   "source": [
    "# write to file\n",
    "def format_dict(res, indent=0):\n",
    "    formatted_items = []\n",
    "    indent_str = \"  \" * indent\n",
    "    next_indent_str = \"  \" * (indent + 1)\n",
    "    for key, value in res.items():\n",
    "        if isinstance(key, str) and \" \" in key:\n",
    "            key = f'\"{key}\"'  # keep \"\" if space in key \n",
    "        if isinstance(value, dict):\n",
    "            formatted_value = format_dict(value, indent + 1)\n",
    "        elif isinstance(value, list):\n",
    "            formatted_value = format_list(value, indent + 1)\n",
    "        else:\n",
    "            formatted_value = repr(value)\n",
    "        formatted_items.append(f'{next_indent_str}{key}: {formatted_value}')\n",
    "    return \"{\\n\" + \",\\n\".join(formatted_items) + f\"\\n{indent_str}}}\"\n",
    "\n",
    "def format_list(l, indent=0):\n",
    "    indent_str = \"  \" * indent\n",
    "    next_indent_str = \"  \" * (indent + 1)\n",
    "    formatted_items = []\n",
    "    for item in l:\n",
    "        if isinstance(item, dict):\n",
    "            formatted_items.append(format_dict(item, indent + 1))\n",
    "        else:\n",
    "            formatted_items.append(repr(item))\n",
    "    return \"[\\n\" + \",\\n\".join(f\"{next_indent_str}{item}\" for item in formatted_items) + f\"\\n{indent_str}]\"\n",
    "\n",
    "formatted_res = format_dict(res)\n",
    "\n",
    "# this writes out the data to a \"file.js\"\n",
    "with open(\"file.js\", \"w\") as file:\n",
    "    file.write(formatted_res)"
   ]
  }
 ],
 "metadata": {
  "kernelspec": {
   "display_name": "Python 3",
   "language": "python",
   "name": "python3"
  },
  "language_info": {
   "codemirror_mode": {
    "name": "ipython",
    "version": 3
   },
   "file_extension": ".py",
   "mimetype": "text/x-python",
   "name": "python",
   "nbconvert_exporter": "python",
   "pygments_lexer": "ipython3",
   "version": "3.11.4"
  }
 },
 "nbformat": 4,
 "nbformat_minor": 2
}
